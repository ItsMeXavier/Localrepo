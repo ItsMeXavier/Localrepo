{
 "cells": [
  {
   "cell_type": "code",
   "execution_count": 1,
   "id": "a845739d",
   "metadata": {},
   "outputs": [],
   "source": [
    "import numpy as np"
   ]
  },
  {
   "cell_type": "code",
   "execution_count": 7,
   "id": "b3d18f12",
   "metadata": {},
   "outputs": [
    {
     "name": "stdout",
     "output_type": "stream",
     "text": [
      "[[1 1 1 1]\n",
      " [1 1 1 1]\n",
      " [1 1 1 1]]\n"
     ]
    }
   ],
   "source": [
    "arr_1s= np.array([[1,1,1,1],[1,1,1,1],[1,1,1,1]])\n",
    "print(arr_1s)"
   ]
  },
  {
   "cell_type": "code",
   "execution_count": 25,
   "id": "f2381e89",
   "metadata": {},
   "outputs": [
    {
     "name": "stdout",
     "output_type": "stream",
     "text": [
      "[1. 1. 1. 1. 1.]\n",
      "float64\n"
     ]
    }
   ],
   "source": [
    "mx_1s=np.ones(5)\n",
    "print(mx_1s)\n",
    "print(mx_1s.dtype)"
   ]
  },
  {
   "cell_type": "code",
   "execution_count": 11,
   "id": "758a7207",
   "metadata": {},
   "outputs": [
    {
     "name": "stdout",
     "output_type": "stream",
     "text": [
      "[[1. 1. 1. 1.]\n",
      " [1. 1. 1. 1.]\n",
      " [1. 1. 1. 1.]]\n"
     ]
    }
   ],
   "source": [
    "mx_ones=np.ones((3,4))\n",
    "print(mx_ones)"
   ]
  },
  {
   "cell_type": "code",
   "execution_count": 12,
   "id": "9ce2d6db",
   "metadata": {},
   "outputs": [
    {
     "name": "stdout",
     "output_type": "stream",
     "text": [
      "[[1 1 1 1]\n",
      " [1 1 1 1]\n",
      " [1 1 1 1]]\n"
     ]
    }
   ],
   "source": [
    "mx_1s=np.ones((3,4),dtype=int)\n",
    "print(mx_1s)"
   ]
  },
  {
   "cell_type": "code",
   "execution_count": 20,
   "id": "a8ec544b",
   "metadata": {},
   "outputs": [
    {
     "name": "stdout",
     "output_type": "stream",
     "text": [
      "[['' '' '' '' '' '']\n",
      " ['' '' '' '' '' '']\n",
      " ['' '' '' '' '' '']\n",
      " ['' '' '' '' '' '']]\n"
     ]
    }
   ],
   "source": [
    "mx_zero=np.zeros((4,6),dtype=str)\n",
    "print(mx_zero)"
   ]
  },
  {
   "cell_type": "code",
   "execution_count": 21,
   "id": "60c2c0f9",
   "metadata": {},
   "outputs": [
    {
     "name": "stdout",
     "output_type": "stream",
     "text": [
      "False\n"
     ]
    }
   ],
   "source": [
    "em_str=''\n",
    "print(bool(em_str))"
   ]
  },
  {
   "cell_type": "code",
   "execution_count": 24,
   "id": "53bc91fd",
   "metadata": {},
   "outputs": [
    {
     "name": "stdout",
     "output_type": "stream",
     "text": [
      "[[       1        1        0]\n",
      " [     377      756        0]\n",
      " [16777984    32761  6619243]]\n"
     ]
    }
   ],
   "source": [
    "em_mx = np.empty((3,3),dtype=int)\n",
    "print(em_mx)"
   ]
  },
  {
   "cell_type": "code",
   "execution_count": null,
   "id": "2f58d6ce",
   "metadata": {},
   "outputs": [],
   "source": []
  }
 ],
 "metadata": {
  "kernelspec": {
   "display_name": "Python 3 (ipykernel)",
   "language": "python",
   "name": "python3"
  },
  "language_info": {
   "codemirror_mode": {
    "name": "ipython",
    "version": 3
   },
   "file_extension": ".py",
   "mimetype": "text/x-python",
   "name": "python",
   "nbconvert_exporter": "python",
   "pygments_lexer": "ipython3",
   "version": "3.11.1"
  }
 },
 "nbformat": 4,
 "nbformat_minor": 5
}
